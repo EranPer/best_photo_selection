{
 "cells": [
  {
   "cell_type": "markdown",
   "metadata": {},
   "source": [
    "# Bad Photo Generator"
   ]
  },
  {
   "cell_type": "markdown",
   "metadata": {},
   "source": [
    "### Generating bad photos from good photos\n",
    "\n",
    "![image info](bad_images.png)"
   ]
  },
  {
   "cell_type": "markdown",
   "metadata": {},
   "source": [
    "#### Choosing random images from a folder"
   ]
  },
  {
   "cell_type": "code",
   "execution_count": 9,
   "metadata": {},
   "outputs": [],
   "source": [
    "# loading libraries\n",
    "import cv2\n",
    "import numpy as np\n",
    "import os, random\n",
    "from PIL import Image"
   ]
  },
  {
   "cell_type": "code",
   "execution_count": 10,
   "metadata": {},
   "outputs": [],
   "source": [
    "def choose_photos(filename, n_photos=-1):\n",
    "    if isinstance(filename, set):\n",
    "        photos = filename\n",
    "    else:\n",
    "        photos = set(os.listdir(folder))\n",
    "    if n_photos == -1:\n",
    "        return photos\n",
    "    number_files = len(photos)\n",
    "    if number_files < n_photos:\n",
    "        return 'number of photos is larger than the photos in the folder/set'\n",
    "    chosen_photos = set(random.sample(photos, n_photos))\n",
    "    photos = photos - chosen_photos\n",
    "    return photos, chosen_photos"
   ]
  },
  {
   "cell_type": "code",
   "execution_count": 67,
   "metadata": {},
   "outputs": [],
   "source": [
    "folder = r\"D:\\Users\\Eran\\Documents\\ITC Alumni Community\\‪Side Quest May 2022‬‏\\best_photo_selection\\data\\raw\\flickr30k_images\"\n",
    "folder = \"test\\\\synthetic\\\\bad\"\n",
    "photos = choose_photos(folder)"
   ]
  },
  {
   "cell_type": "code",
   "execution_count": 68,
   "metadata": {},
   "outputs": [
    {
     "data": {
      "text/plain": [
       "1000"
      ]
     },
     "execution_count": 68,
     "metadata": {},
     "output_type": "execute_result"
    }
   ],
   "source": [
    "len(photos)"
   ]
  },
  {
   "cell_type": "markdown",
   "metadata": {},
   "source": [
    "#### Creating \"good\" and \"bad\" folders"
   ]
  },
  {
   "cell_type": "code",
   "execution_count": 20,
   "metadata": {},
   "outputs": [],
   "source": [
    "try:\n",
    "    os.mkdir('good') \n",
    "except OSError as error: \n",
    "    print(error)"
   ]
  },
  {
   "cell_type": "code",
   "execution_count": 21,
   "metadata": {},
   "outputs": [],
   "source": [
    "try:\n",
    "    os.mkdir('bad')\n",
    "except OSError as error: \n",
    "    print(error)"
   ]
  },
  {
   "cell_type": "markdown",
   "metadata": {},
   "source": [
    "#### Copying the random chosen images into the \"good\" folder"
   ]
  },
  {
   "cell_type": "code",
   "execution_count": 7,
   "metadata": {},
   "outputs": [],
   "source": [
    "n_good_photos = 7000\n",
    "photos, good_photos = choose_photos(photos, n_good_photos)"
   ]
  },
  {
   "cell_type": "code",
   "execution_count": 8,
   "metadata": {},
   "outputs": [
    {
     "name": "stdout",
     "output_type": "stream",
     "text": [
      "Chosen photos: 7000\n",
      "Remaining number of photos: 24783\n"
     ]
    },
    {
     "data": {
      "text/plain": [
       "False"
      ]
     },
     "execution_count": 8,
     "metadata": {},
     "output_type": "execute_result"
    }
   ],
   "source": [
    "print('Chosen photos:', len(good_photos))\n",
    "print('Remaining number of photos:', len(photos))\n",
    "bool(photos & good_photos)"
   ]
  },
  {
   "cell_type": "code",
   "execution_count": 9,
   "metadata": {},
   "outputs": [],
   "source": [
    "import shutil"
   ]
  },
  {
   "cell_type": "code",
   "execution_count": 10,
   "metadata": {},
   "outputs": [],
   "source": [
    "for photo in good_photos:\n",
    "    shutil.copy(folder + '\\\\' + photo, 'good')"
   ]
  },
  {
   "cell_type": "markdown",
   "metadata": {},
   "source": [
    "#### Generating bad photos"
   ]
  },
  {
   "cell_type": "code",
   "execution_count": 28,
   "metadata": {},
   "outputs": [],
   "source": [
    "# motion blur filter\n",
    "#size - in pixels, size of motion blur\n",
    "#angle - in degrees, direction of motion blur\n",
    "def apply_motion_blur(image, size, angle):\n",
    "    k = np.zeros((size, size), dtype=np.float32)\n",
    "    k[ (size-1)// 2 , :] = np.ones(size, dtype=np.float32)\n",
    "    k = cv2.warpAffine(k, cv2.getRotationMatrix2D( (size / 2 -0.5 , size / 2 -0.5 ) , angle, 1.0), (size, size) )\n",
    "    k = k * (1.0 / np.sum(k))\n",
    "    return cv2.filter2D(image, -1, k)"
   ]
  },
  {
   "cell_type": "code",
   "execution_count": 29,
   "metadata": {},
   "outputs": [],
   "source": [
    "# random gaussian blur outer circle filter\n",
    "def random_blur_out(image, radius=100):\n",
    "    img_size = (image.shape[0], image.shape[1], 3)\n",
    "    blurred_img = cv2.GaussianBlur(image, (21, 21), 0)\n",
    "    mask = np.zeros(img_size, dtype=np.uint8)\n",
    "    x, y = (random.randint(0, img_size[0]-radius), random.randint(0, img_size[1]-radius))\n",
    "    mask = cv2.circle(mask, (x, y), radius, (255, 255, 255), -1)\n",
    "    return np.where(mask==np.array([255, 255, 255]), image, blurred_img)"
   ]
  },
  {
   "cell_type": "code",
   "execution_count": 30,
   "metadata": {},
   "outputs": [],
   "source": [
    "# random gaussian blur inner circle filter\n",
    "def random_blur_in(image, radius):\n",
    "    img_size = (image.shape[0], image.shape[1], 3)\n",
    "    blurred_img = cv2.GaussianBlur(image, (21, 21), 0)\n",
    "    mask = np.zeros(img_size, dtype=np.uint8)\n",
    "    x, y = (random.randint(0, img_size[0]-radius), random.randint(0, img_size[1]-radius))\n",
    "    mask = cv2.circle(mask, (x, y), radius, (255, 255, 255), -1)\n",
    "    return np.where(mask==np.array([0, 0, 0]), image, blurred_img)"
   ]
  },
  {
   "cell_type": "code",
   "execution_count": 31,
   "metadata": {},
   "outputs": [],
   "source": [
    "# illumination filter\n",
    "def adjust_gamma(image, gamma=0.5):\n",
    "    invGamma = 1.0 / gamma\n",
    "    table = np.array([((i / 255.0) ** invGamma) * 255 for i in np.arange(0, 256)])\n",
    "    return cv2.LUT(image.astype(np.uint8), table.astype(np.uint8))"
   ]
  },
  {
   "cell_type": "code",
   "execution_count": 60,
   "metadata": {},
   "outputs": [],
   "source": [
    "# light source filter\n",
    "def fake_light(image, size=0.5):\n",
    "    img_size = (image.shape[0], image.shape[1], 3)\n",
    "    mask = np.zeros(img_size, np.uint8)\n",
    "\n",
    "    lightsource = cv2.imread('lightsource.png')\n",
    "    lightsource_size = (int(img_size[0]*size), int(img_size[1]*size))\n",
    "    lightsource = cv2.resize(lightsource, lightsource_size)\n",
    "    \n",
    "    mask = Image.fromarray(np.uint8(mask))\n",
    "    lightsource = Image.fromarray(np.uint8(lightsource))\n",
    "\n",
    "    x, y = (random.randint(0, img_size[0]-lightsource_size[0]), random.randint(0, img_size[1]-lightsource_size[1]))\n",
    "\n",
    "    mask.paste(lightsource, (x, y))\n",
    "    mask = np.asarray(mask)\n",
    "\n",
    "    return cv2.addWeighted(img, 1, mask, 1, 0)"
   ]
  },
  {
   "cell_type": "code",
   "execution_count": 61,
   "metadata": {},
   "outputs": [],
   "source": [
    "def apply_filter(image, filter_name='motion_blur'):\n",
    "    if filter_name == 'motion_blur':\n",
    "        return apply_motion_blur(image, 10, 90)\n",
    "    if filter_name == 'random_blur_out':\n",
    "        return random_blur_out(image, radius=100)\n",
    "    if filter_name == 'random_blur_in':\n",
    "        return random_blur_in(image, radius=100)\n",
    "    if filter_name == 'bright':\n",
    "        return adjust_gamma(image, 3)\n",
    "    if filter_name == 'dark':\n",
    "        return adjust_gamma(image, 0.3)\n",
    "    if filter_name == 'light':\n",
    "        return fake_light(image)\n",
    "    if filter_name == 'mix':\n",
    "        return adjust_gamma(apply_motion_blur(fake_light(image), 10, 90), 3)"
   ]
  },
  {
   "cell_type": "markdown",
   "metadata": {},
   "source": [
    "#### Generating bad photos from bad photos folder"
   ]
  },
  {
   "cell_type": "code",
   "execution_count": 69,
   "metadata": {},
   "outputs": [
    {
     "name": "stdout",
     "output_type": "stream",
     "text": [
      "Generated 100 for the motion_blur filter\n",
      "Generated 100 for the random_blur_out filter\n",
      "Generated 100 for the random_blur_in filter\n",
      "Generated 100 for the bright filter\n",
      "Generated 100 for the dark filter\n",
      "Generated 100 for the light filter\n",
      "Generated 100 for the mix filter\n",
      "Generated total of 700 bad images\n"
     ]
    }
   ],
   "source": [
    "filters = ['motion_blur', 'random_blur_out', 'random_blur_in', 'bright', 'dark', 'light', 'mix']\n",
    "n_filtered_images = 100\n",
    "\n",
    "for fil in filters:\n",
    "    photos, chosen_photos_to_be_filtered = choose_photos(photos, n_filtered_images)\n",
    "    for img_file in chosen_photos_to_be_filtered:\n",
    "        # img = cv2.imread(folder + '\\\\' + img_file)\n",
    "        img = Image.open(folder + '\\\\' + img_file).convert('RGB')\n",
    "        img = np.array(img) \n",
    "        img = img[:, :, ::-1].copy() \n",
    "        cv2.imwrite('bad\\\\' + img_file[:-4] + '_' + fil + '.jpg', apply_filter(img , filter_name=fil))\n",
    "    print('Generated ' + str(len(chosen_photos_to_be_filtered)) + ' for the ' + fil + ' filter')\n",
    "print('Generated total of ' + str(n_filtered_images*len(filters)) + ' bad images')"
   ]
  },
  {
   "cell_type": "code",
   "execution_count": null,
   "metadata": {},
   "outputs": [],
   "source": []
  }
 ],
 "metadata": {
  "kernelspec": {
   "display_name": "Python 3",
   "language": "python",
   "name": "python3"
  },
  "language_info": {
   "codemirror_mode": {
    "name": "ipython",
    "version": 3
   },
   "file_extension": ".py",
   "mimetype": "text/x-python",
   "name": "python",
   "nbconvert_exporter": "python",
   "pygments_lexer": "ipython3",
   "version": "3.8.5"
  }
 },
 "nbformat": 4,
 "nbformat_minor": 4
}
