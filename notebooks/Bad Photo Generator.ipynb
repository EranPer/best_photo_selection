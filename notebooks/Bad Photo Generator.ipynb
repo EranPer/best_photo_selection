{
 "cells": [
  {
   "cell_type": "markdown",
   "metadata": {},
   "source": [
    "# Bad Photo Generator"
   ]
  },
  {
   "cell_type": "markdown",
   "metadata": {},
   "source": [
    "### Step 1: Generating bad photos from good photos\n",
    "\n",
    "![image info](bad_images.png)"
   ]
  },
  {
   "cell_type": "markdown",
   "metadata": {},
   "source": [
    "#### Choosing random images from a folder"
   ]
  },
  {
   "cell_type": "code",
   "execution_count": 1,
   "metadata": {},
   "outputs": [],
   "source": [
    "# loading libraries\n",
    "import cv2\n",
    "import numpy as np\n",
    "import os, random\n",
    "from PIL import Image"
   ]
  },
  {
   "cell_type": "code",
   "execution_count": 2,
   "metadata": {},
   "outputs": [],
   "source": [
    "def choose_photos(folder, n_photos):\n",
    "    number_files = len(os.listdir(folder))\n",
    "    if number_files < n_photos:\n",
    "        return 'number of photos is larger than the photos in the folder'\n",
    "    chosen_photos = set()\n",
    "    while len(chosen_photos) < n_photos:\n",
    "        chosen_photos.add(random.choice(os.listdir(folder)))\n",
    "    # chosen_photos = {random.choice(os.listdir(folder)) for i in range(n_photos)}\n",
    "    return chosen_photos"
   ]
  },
  {
   "cell_type": "code",
   "execution_count": 3,
   "metadata": {},
   "outputs": [],
   "source": [
    "folder = r\"flickr30k_images\"\n",
    "chosen_photos = choose_photos(folder, 1000)"
   ]
  },
  {
   "cell_type": "code",
   "execution_count": 4,
   "metadata": {},
   "outputs": [
    {
     "data": {
      "text/plain": [
       "1000"
      ]
     },
     "execution_count": 4,
     "metadata": {},
     "output_type": "execute_result"
    }
   ],
   "source": [
    "len(chosen_photos)"
   ]
  },
  {
   "cell_type": "markdown",
   "metadata": {},
   "source": [
    "#### Creating \"good\" and \"bad\" folders"
   ]
  },
  {
   "cell_type": "code",
   "execution_count": 5,
   "metadata": {},
   "outputs": [],
   "source": [
    "try:\n",
    "    os.mkdir('good') \n",
    "except OSError as error: \n",
    "    print(error)"
   ]
  },
  {
   "cell_type": "code",
   "execution_count": 6,
   "metadata": {},
   "outputs": [],
   "source": [
    "try:\n",
    "    os.mkdir('bad')\n",
    "except OSError as error: \n",
    "    print(error)"
   ]
  },
  {
   "cell_type": "markdown",
   "metadata": {},
   "source": [
    "#### Copying the random chosen images into the \"good\" folder"
   ]
  },
  {
   "cell_type": "code",
   "execution_count": 7,
   "metadata": {},
   "outputs": [],
   "source": [
    "import shutil"
   ]
  },
  {
   "cell_type": "code",
   "execution_count": 8,
   "metadata": {},
   "outputs": [],
   "source": [
    "for photo in chosen_photos:\n",
    "    shutil.copy(folder + '\\\\' + photo, 'good')"
   ]
  },
  {
   "cell_type": "markdown",
   "metadata": {},
   "source": [
    "#### Generating bad photos"
   ]
  },
  {
   "cell_type": "code",
   "execution_count": 9,
   "metadata": {},
   "outputs": [],
   "source": [
    "# motion filter\n",
    "#size - in pixels, size of motion blur\n",
    "#angle - in degrees, direction of motion blur\n",
    "def apply_motion_blur(image, size, angle):\n",
    "    k = np.zeros((size, size), dtype=np.float32)\n",
    "    k[ (size-1)// 2 , :] = np.ones(size, dtype=np.float32)\n",
    "    k = cv2.warpAffine(k, cv2.getRotationMatrix2D( (size / 2 -0.5 , size / 2 -0.5 ) , angle, 1.0), (size, size) )\n",
    "    k = k * ( 1.0 / np.sum(k) )\n",
    "    return cv2.filter2D(image, -1, k)"
   ]
  },
  {
   "cell_type": "code",
   "execution_count": 10,
   "metadata": {},
   "outputs": [],
   "source": [
    "# illumination filter\n",
    "def adjust_gamma(image, gamma=0.5):\n",
    "    invGamma = 1.0 / gamma\n",
    "    table = np.array([((i / 255.0) ** invGamma) * 255 for i in np.arange(0, 256)])\n",
    "    return cv2.LUT(image.astype(np.uint8), table.astype(np.uint8))"
   ]
  },
  {
   "cell_type": "code",
   "execution_count": 11,
   "metadata": {},
   "outputs": [],
   "source": [
    "# light source filter\n",
    "def fake_light(image, size=0.5):\n",
    "    img_size = (image.shape[0], image.shape[1], 3)\n",
    "    mask = np.zeros(img_size, np.uint8)\n",
    "\n",
    "    lightsource = cv2.imread('lightsource.png')\n",
    "    lightsource_size = (int(img_size[0]*size), int(img_size[1]*size))\n",
    "    lightsource = cv2.resize(lightsource, lightsource_size)\n",
    "    \n",
    "    mask = Image.fromarray(np.uint8(mask))\n",
    "    lightsource = Image.fromarray(np.uint8(lightsource))\n",
    "\n",
    "    x, y = (random.randint(0, img_size[0]-lightsource_size[0]), random.randint(0, img_size[1]-lightsource_size[1]))\n",
    "\n",
    "    mask.paste(lightsource, (x, y))\n",
    "    mask = np.asarray(mask)\n",
    "\n",
    "    return cv2.addWeighted(img, 1, mask, 1, 0)"
   ]
  },
  {
   "cell_type": "code",
   "execution_count": 12,
   "metadata": {},
   "outputs": [],
   "source": [
    "def apply_filter(image, filter_name='blur'):\n",
    "    if filter_name == 'blur':\n",
    "        return apply_motion_blur(image, 10, 90)\n",
    "    if filter_name == 'bright':\n",
    "        return adjust_gamma(image, 3)\n",
    "    if filter_name == 'dark':\n",
    "        return adjust_gamma(image, 0.3)\n",
    "    if filter_name == 'light':\n",
    "        return fake_light(image)"
   ]
  },
  {
   "cell_type": "code",
   "execution_count": 13,
   "metadata": {},
   "outputs": [],
   "source": [
    "for img_file in chosen_photos:\n",
    "    img = cv2.imread('good\\\\' + img_file)\n",
    "    cv2.imwrite('bad\\\\' + img_file[:-4] + '_blur.jpg', apply_filter(img, filter_name='blur'))\n",
    "    cv2.imwrite('bad\\\\' + img_file[:-4] + '_bright.jpg', apply_filter(img, filter_name='bright'))\n",
    "    cv2.imwrite('bad\\\\' + img_file[:-4] + '_dark.jpg', apply_filter(img, filter_name='dark'))\n",
    "    cv2.imwrite('bad\\\\' + img_file[:-4] + '_light.jpg', apply_filter(img, filter_name='light'))"
   ]
  },
  {
   "cell_type": "code",
   "execution_count": null,
   "metadata": {},
   "outputs": [],
   "source": []
  }
 ],
 "metadata": {
  "kernelspec": {
   "display_name": "Python 3",
   "language": "python",
   "name": "python3"
  },
  "language_info": {
   "codemirror_mode": {
    "name": "ipython",
    "version": 3
   },
   "file_extension": ".py",
   "mimetype": "text/x-python",
   "name": "python",
   "nbconvert_exporter": "python",
   "pygments_lexer": "ipython3",
   "version": "3.8.5"
  }
 },
 "nbformat": 4,
 "nbformat_minor": 4
}
