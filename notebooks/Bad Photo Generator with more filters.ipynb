{
 "cells": [
  {
   "cell_type": "markdown",
   "metadata": {},
   "source": [
    "# Bad Photo Generator with more filters"
   ]
  },
  {
   "cell_type": "markdown",
   "metadata": {},
   "source": [
    "### Generating bad photos from good photos\n",
    "\n",
    "![image info](more_bad_images.png)"
   ]
  },
  {
   "cell_type": "markdown",
   "metadata": {},
   "source": [
    "#### Choosing random images from a folder"
   ]
  },
  {
   "cell_type": "code",
   "execution_count": 1,
   "metadata": {},
   "outputs": [],
   "source": [
    "# loading libraries\n",
    "import cv2\n",
    "import numpy as np\n",
    "import os, random\n",
    "from PIL import Image, ImageDraw"
   ]
  },
  {
   "cell_type": "code",
   "execution_count": 2,
   "metadata": {},
   "outputs": [],
   "source": [
    "def choose_photos(filename, n_photos=-1):\n",
    "    if isinstance(filename, set):\n",
    "        photos = filename\n",
    "    else:\n",
    "        photos = set(os.listdir(folder))\n",
    "    if n_photos == -1:\n",
    "        return photos\n",
    "    number_files = len(photos)\n",
    "    if number_files < n_photos:\n",
    "        return 'number of photos is larger than the photos in the folder/set'\n",
    "    chosen_photos = set(random.sample(photos, n_photos))\n",
    "    photos = photos - chosen_photos\n",
    "    return photos, chosen_photos"
   ]
  },
  {
   "cell_type": "code",
   "execution_count": 3,
   "metadata": {},
   "outputs": [],
   "source": [
    "folder = \"flickr30k_images\"\n",
    "photos = choose_photos(folder)"
   ]
  },
  {
   "cell_type": "code",
   "execution_count": 4,
   "metadata": {},
   "outputs": [
    {
     "data": {
      "text/plain": [
       "31783"
      ]
     },
     "execution_count": 4,
     "metadata": {},
     "output_type": "execute_result"
    }
   ],
   "source": [
    "len(photos)"
   ]
  },
  {
   "cell_type": "markdown",
   "metadata": {},
   "source": [
    "#### Creating \"good\" and \"bad\" folders"
   ]
  },
  {
   "cell_type": "code",
   "execution_count": 5,
   "metadata": {},
   "outputs": [],
   "source": [
    "try:\n",
    "    os.mkdir('good') \n",
    "except OSError as error: \n",
    "    print(error)"
   ]
  },
  {
   "cell_type": "code",
   "execution_count": 6,
   "metadata": {},
   "outputs": [],
   "source": [
    "try:\n",
    "    os.mkdir('bad')\n",
    "except OSError as error: \n",
    "    print(error)"
   ]
  },
  {
   "cell_type": "markdown",
   "metadata": {},
   "source": [
    "#### Copying the random chosen images into the \"good\" folder"
   ]
  },
  {
   "cell_type": "code",
   "execution_count": 7,
   "metadata": {},
   "outputs": [
    {
     "name": "stderr",
     "output_type": "stream",
     "text": [
      "C:\\Users\\Eran\\AppData\\Local\\Temp\\ipykernel_18412\\2906520519.py:11: DeprecationWarning: Sampling from a set deprecated\n",
      "since Python 3.9 and will be removed in a subsequent version.\n",
      "  chosen_photos = set(random.sample(photos, n_photos))\n"
     ]
    }
   ],
   "source": [
    "n_good_photos = 224\n",
    "photos, good_photos = choose_photos(photos, n_good_photos)"
   ]
  },
  {
   "cell_type": "code",
   "execution_count": 8,
   "metadata": {},
   "outputs": [
    {
     "name": "stdout",
     "output_type": "stream",
     "text": [
      "Chosen photos: 224\n",
      "Remaining number of photos: 31559\n"
     ]
    },
    {
     "data": {
      "text/plain": [
       "False"
      ]
     },
     "execution_count": 8,
     "metadata": {},
     "output_type": "execute_result"
    }
   ],
   "source": [
    "print('Chosen photos:', len(good_photos))\n",
    "print('Remaining number of photos:', len(photos))\n",
    "bool(photos & good_photos)"
   ]
  },
  {
   "cell_type": "code",
   "execution_count": 9,
   "metadata": {},
   "outputs": [],
   "source": [
    "import shutil"
   ]
  },
  {
   "cell_type": "code",
   "execution_count": 10,
   "metadata": {},
   "outputs": [],
   "source": [
    "for photo in good_photos:\n",
    "    shutil.copy(folder + '\\\\' + photo, 'good')"
   ]
  },
  {
   "cell_type": "markdown",
   "metadata": {},
   "source": [
    "#### Filters for creating synthetic \"bad\" photos"
   ]
  },
  {
   "cell_type": "code",
   "execution_count": 11,
   "metadata": {},
   "outputs": [],
   "source": [
    "# motion blur filter\n",
    "#size - in pixels, size of motion blur\n",
    "#angle - in degrees, direction of motion blur\n",
    "def apply_motion_blur(image, size, angle):\n",
    "    k = np.zeros((size, size), dtype=np.float32)\n",
    "    k[ (size-1)// 2 , :] = np.ones(size, dtype=np.float32)\n",
    "    k = cv2.warpAffine(k, cv2.getRotationMatrix2D( (size / 2 -0.5 , size / 2 -0.5 ) , angle, 1.0), (size, size) )\n",
    "    k = k * (1.0 / np.sum(k))\n",
    "    return cv2.filter2D(image, -1, k)"
   ]
  },
  {
   "cell_type": "code",
   "execution_count": 12,
   "metadata": {},
   "outputs": [],
   "source": [
    "# random gaussian blur outer circle filter\n",
    "def random_blur_out(image, radius=100):\n",
    "    img_size = (image.shape[0], image.shape[1], 3)\n",
    "    blurred_img = cv2.GaussianBlur(image, (21, 21), 0)\n",
    "    mask = np.zeros(img_size, dtype=np.uint8)\n",
    "    x, y = (random.randint(0, img_size[0]-radius), random.randint(0, img_size[1]-radius))\n",
    "    mask = cv2.circle(mask, (x, y), radius, (255, 255, 255), -1)\n",
    "    return np.where(mask==np.array([255, 255, 255]), image, blurred_img)"
   ]
  },
  {
   "cell_type": "code",
   "execution_count": 13,
   "metadata": {},
   "outputs": [],
   "source": [
    "# random gaussian blur inner circle filter\n",
    "def random_blur_in(image, radius):\n",
    "    img_size = (image.shape[0], image.shape[1], 3)\n",
    "    blurred_img = cv2.GaussianBlur(image, (21, 21), 0)\n",
    "    mask = np.zeros(img_size, dtype=np.uint8)\n",
    "    x, y = (random.randint(0, img_size[0]-radius), random.randint(0, img_size[1]-radius))\n",
    "    mask = cv2.circle(mask, (x, y), radius, (255, 255, 255), -1)\n",
    "    return np.where(mask==np.array([0, 0, 0]), image, blurred_img)"
   ]
  },
  {
   "cell_type": "code",
   "execution_count": 14,
   "metadata": {},
   "outputs": [],
   "source": [
    "# distance between two points (a and b)\n",
    "def distance(a,b):\n",
    "    return np.sqrt((a[0] - b[0])**2 + (a[1] - b[1])**2)\n",
    "\n",
    "# return true/false if a point (c) is between two points (a and b)\n",
    "def is_between(a,c,b):\n",
    "    return distance(a,c) + distance(c,b) == distance(a,b)\n",
    "\n",
    "# random gaussian semi-blur filter\n",
    "def random_semi_blur(image):\n",
    "    img_size = (image.shape[0], image.shape[1], 3)\n",
    "    blurred_img = cv2.GaussianBlur(image, (21, 21), 0)\n",
    "    mask = np.zeros(img_size, dtype=np.uint8)\n",
    "    x_start, y_start = random.choice([(random.randint(0, img_size[0]), 0), (0, random.randint(0, img_size[1]))])\n",
    "    x_end, y_end = (img_size[1] - x_start, img_size[0] - y_start)\n",
    "    mask = cv2.line(mask, (x_start, y_start), (x_end, y_end), (255, 255, 255), 1)\n",
    "    while True:\n",
    "        seed = (random.randint(0, img_size[1]), random.randint(0, img_size[0]))\n",
    "        if not is_between((x_start, y_start), seed, (x_end, y_end)):\n",
    "            break\n",
    "    rep_value = (255, 255, 255)\n",
    "    mask = Image.fromarray(mask)\n",
    "    ImageDraw.floodfill(mask, seed, rep_value, thresh=50)\n",
    "    mask = np.asarray(mask)\n",
    "    return np.where(mask==np.array([255, 255, 255]), image, blurred_img)"
   ]
  },
  {
   "cell_type": "code",
   "execution_count": 15,
   "metadata": {},
   "outputs": [],
   "source": [
    "# illumination filter\n",
    "def adjust_gamma(image, gamma=0.5):\n",
    "    invGamma = 1.0 / gamma\n",
    "    table = np.array([((i / 255.0) ** invGamma) * 255 for i in np.arange(0, 256)])\n",
    "    return cv2.LUT(image.astype(np.uint8), table.astype(np.uint8))"
   ]
  },
  {
   "cell_type": "code",
   "execution_count": 16,
   "metadata": {},
   "outputs": [],
   "source": [
    "# lens flare filter\n",
    "def lens_flare(image, size=1, lens_flare_folder = '.\\\\lens flare\\\\'):\n",
    "    \n",
    "    # load random lens flare layer\n",
    "    files = os.listdir(lens_flare_folder)\n",
    "    lightsource = Image.open(lens_flare_folder + random.choice(files))\n",
    "    \n",
    "    # resize to input image size\n",
    "    lightsource_size = (int(image.shape[1]*size), int(image.shape[0]*size))\n",
    "    lightsource = lightsource.resize(lightsource_size)\n",
    "    lightsource = Image.fromarray(np.uint8(lightsource))\n",
    "    \n",
    "    # Open Front Image\n",
    "    frontImage = lightsource\n",
    "    \n",
    "    # Flip the light source layer Vertical & Horizontal randomly (or not)\n",
    "    frontImage = random.choice([frontImage.transpose(Image.FLIP_LEFT_RIGHT), frontImage])\n",
    "    frontImage = random.choice([frontImage.transpose(Image.FLIP_TOP_BOTTOM), frontImage])\n",
    "    \n",
    "    # Open Background Image\n",
    "    background = Image.fromarray(np.uint8(image))\n",
    "\n",
    "    # Convert image to RGBA\n",
    "    frontImage = frontImage.convert(\"RGBA\")\n",
    "\n",
    "    # Convert image to RGBA\n",
    "    background = background.convert(\"RGBA\")\n",
    "\n",
    "    # Calculate width to be at the center\n",
    "    width = (background.width - frontImage.width) // 2\n",
    "\n",
    "    # Calculate height to be at the center\n",
    "    height = (background.height - frontImage.height) // 2\n",
    "\n",
    "    # Paste the frontImage at (width, height)\n",
    "    background.paste(frontImage, (width, height), frontImage)\n",
    "    \n",
    "    return np.asarray(background)"
   ]
  },
  {
   "cell_type": "code",
   "execution_count": 17,
   "metadata": {},
   "outputs": [],
   "source": [
    "# random noise filter\n",
    "def add_noise(image):\n",
    "    mean = 0.0   # some constant\n",
    "    std = 127.5    # some constant (standard deviation)\n",
    "    noisy_img = image + np.random.normal(mean, std, (image.size[1], image.size[0], 3))\n",
    "    noisy_img_clipped = np.clip(noisy_img, 0, 255)  # we might get out of bounds due to noise\n",
    "    return noisy_img_clipped"
   ]
  },
  {
   "cell_type": "code",
   "execution_count": 18,
   "metadata": {},
   "outputs": [],
   "source": [
    "def apply_filter(image, filter_name='motion_blur'):\n",
    "    if filter_name == 'motion_blur':\n",
    "        return apply_motion_blur(image, 10, 90)\n",
    "    if filter_name == 'random_blur_out':\n",
    "        return random_blur_out(image, radius=100)\n",
    "    if filter_name == 'random_blur_in':\n",
    "        return random_blur_in(image, radius=100)\n",
    "    if filter_name == 'random_semi_blur':\n",
    "        return random_semi_blur(image)\n",
    "    if filter_name == 'bright':\n",
    "        return adjust_gamma(image, 3)\n",
    "    if filter_name == 'dark':\n",
    "        return adjust_gamma(image, 0.3)\n",
    "    if filter_name == 'flare':\n",
    "        return lens_flare(image)\n",
    "    if filter_name == 'noise':\n",
    "        return add_noise(image)\n",
    "    if filter_name == 'mix_1':\n",
    "        return adjust_gamma(apply_motion_blur(lens_flare(image), 10, 90), 3)\n",
    "    if filter_name == 'mix_2':\n",
    "        return adjust_gamma(apply_motion_blur(lens_flare(image), 10, 90), 0.3)"
   ]
  },
  {
   "cell_type": "markdown",
   "metadata": {},
   "source": [
    "#### Generating bad photos with filters"
   ]
  },
  {
   "cell_type": "code",
   "execution_count": 19,
   "metadata": {},
   "outputs": [
    {
     "name": "stdout",
     "output_type": "stream",
     "text": [
      "Generated 1 for the motion_blur filter\n",
      "Generated 1 for the bright filter\n",
      "Generated 1 for the dark filter\n",
      "Generated 1 for the flare filter\n",
      "Generated 1 for the loss filter\n",
      "Generated 1 for the mix_1 filter\n",
      "Generated 1 for the mix_2 filter\n",
      "Generated total of 7 bad images\n"
     ]
    },
    {
     "name": "stderr",
     "output_type": "stream",
     "text": [
      "C:\\Users\\Eran\\AppData\\Local\\Temp\\ipykernel_18412\\2906520519.py:11: DeprecationWarning: Sampling from a set deprecated\n",
      "since Python 3.9 and will be removed in a subsequent version.\n",
      "  chosen_photos = set(random.sample(photos, n_photos))\n"
     ]
    }
   ],
   "source": [
    "filters = ['motion_blur', 'bright', 'dark', 'flare', 'loss', 'mix_1', 'mix_2']\n",
    "n_filtered_images = 1\n",
    "\n",
    "for fil in filters:\n",
    "    photos, chosen_photos_to_be_filtered = choose_photos(photos, n_filtered_images)\n",
    "    for img_file in chosen_photos_to_be_filtered:\n",
    "        img = Image.open(folder + '\\\\' + img_file).convert('RGB')\n",
    "        img = np.array(img) \n",
    "        img = img[:, :, ::-1].copy()\n",
    "        if fil != 'loss':\n",
    "            cv2.imwrite('bad\\\\' + img_file[:-4] + '_' + fil + '.jpg', apply_filter(img , filter_name=fil))\n",
    "        else:\n",
    "            # low quality filter (jpeg loss)\n",
    "            # The image quality, on a scale from 1 (worst) to 95 (best).\n",
    "            # The default is 75. Values above 95 should be avoided;\n",
    "            # 100 disables portions of the JPEG compression algorithm, and results in large files with hardly any gain in image quality.\n",
    "            quality_val = 1\n",
    "            img = cv2.cvtColor(np.array(img), cv2.COLOR_RGB2BGR)\n",
    "            Image.fromarray(img).save('bad\\\\' + img_file[:-4] + '_' + fil + '.jpg', 'JPEG', quality=quality_val)\n",
    "    print('Generated ' + str(len(chosen_photos_to_be_filtered)) + ' for the ' + fil + ' filter')\n",
    "print('Generated total of ' + str(n_filtered_images*len(filters)) + ' bad images')"
   ]
  },
  {
   "cell_type": "code",
   "execution_count": null,
   "metadata": {},
   "outputs": [],
   "source": []
  }
 ],
 "metadata": {
  "kernelspec": {
   "display_name": "Python 3 (ipykernel)",
   "language": "python",
   "name": "python3"
  },
  "language_info": {
   "codemirror_mode": {
    "name": "ipython",
    "version": 3
   },
   "file_extension": ".py",
   "mimetype": "text/x-python",
   "name": "python",
   "nbconvert_exporter": "python",
   "pygments_lexer": "ipython3",
   "version": "3.9.12"
  }
 },
 "nbformat": 4,
 "nbformat_minor": 4
}
